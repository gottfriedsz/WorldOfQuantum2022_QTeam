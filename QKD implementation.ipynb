{
 "cells": [
  {
   "cell_type": "markdown",
   "id": "fbdf34a8-0c93-4a2b-909e-0e498bdca501",
   "metadata": {},
   "source": [
    "# Quantum Key Distribution"
   ]
  },
  {
   "cell_type": "code",
   "execution_count": 1,
   "id": "947d07ad",
   "metadata": {},
   "outputs": [
    {
     "name": "stdout",
     "output_type": "stream",
     "text": [
      "Imports Successful\n"
     ]
    }
   ],
   "source": [
    "# some imports and helper functions \n",
    "from qiskit import QuantumCircuit, Aer, transpile, assemble\n",
    "from qiskit.visualization import plot_histogram, plot_bloch_multivector\n",
    "from numpy.random import randint\n",
    "from qiskit.quantum_info import Statevector, random_statevector\n",
    "\n",
    "import numpy as np\n",
    "import random\n",
    "print(\"Imports Successful\")\n",
    "\n",
    "def encode_message(bits, bases):\n",
    "    message = []\n",
    "    for i in range(n):\n",
    "        qc = QuantumCircuit(1,1)\n",
    "        if bases[i] == 0: # Prepare qubit in Z-basis\n",
    "            if bits[i] == 0:\n",
    "                pass \n",
    "            else:\n",
    "                qc.x(0)\n",
    "        else: # Prepare qubit in X-basis\n",
    "            if bits[i] == 0:\n",
    "                qc.h(0)\n",
    "            else:\n",
    "                qc.x(0)\n",
    "                qc.h(0)\n",
    "        qc.barrier()\n",
    "        message.append(qc)\n",
    "    return message\n",
    "\n",
    "\n",
    "def measure_message(message, bases):\n",
    "    backend = Aer.get_backend('aer_simulator')\n",
    "    measurements = []\n",
    "    for q in range(n):\n",
    "        if bases[q] == 0: # measuring in Z-basis\n",
    "            message[q].measure(0,0)\n",
    "        if bases[q] == 1: # measuring in X-basis\n",
    "            message[q].h(0)\n",
    "            message[q].measure(0,0)\n",
    "        aer_sim = Aer.get_backend('aer_simulator')\n",
    "        qobj = assemble(message[q], shots=1, memory=True)\n",
    "        result = aer_sim.run(qobj).result()\n",
    "        measured_bit = int(result.get_memory()[0])\n",
    "        measurements.append(measured_bit)\n",
    "    return measurements\n",
    "\n",
    "def remove_garbage(a_bases, b_bases, bits):\n",
    "    good_bits = []\n",
    "    for q in range(n):\n",
    "        if a_bases[q] == b_bases[q]:\n",
    "            # If both used the same basis, add\n",
    "            # this to the list of 'good' bits\n",
    "            good_bits.append(bits[q])\n",
    "    return good_bits\n",
    "\n",
    "def sample_bits(bits, selection):\n",
    "    sample = []\n",
    "    for i in selection:\n",
    "        # use np.mod to make sure the\n",
    "        # bit we sample is always in \n",
    "        # the list range\n",
    "        i = np.mod(i, len(bits))\n",
    "        # pop(i) removes the element of the\n",
    "        # list at index 'i'\n",
    "        sample.append(bits.pop(i))\n",
    "    return sample\n"
   ]
  },
  {
   "cell_type": "markdown",
   "id": "cdc8fa36",
   "metadata": {
    "tags": []
   },
   "source": [
    "# Theory"
   ]
  },
  {
   "cell_type": "markdown",
   "id": "8d3d7776-68b2-4747-94fd-53498f1eeae2",
   "metadata": {},
   "source": [
    "Some explainations of how transmission of qubits can be achieved and wrong decoding or interception can change the result."
   ]
  },
  {
   "cell_type": "markdown",
   "id": "2bf33cf4-2950-42cd-ae5c-bdf992011934",
   "metadata": {},
   "source": [
    "<b>1.  Answer is correctly transmitted</b>"
   ]
  },
  {
   "cell_type": "markdown",
   "id": "e8633938-28b0-4877-811d-da78afaf981a",
   "metadata": {},
   "source": [
    "A bit is set by Alice, encoding in a specific way and decoded by Bob. If the encoding and decoding is the same, the information received by Bob is correct."
   ]
  },
  {
   "cell_type": "markdown",
   "id": "dacfd6b8",
   "metadata": {},
   "source": [
    "😓 Play around and set the bitsToSend to 1 or 0 and see the result. Verify that the value defined by Alice (left) is always the same as measured by Bob (right)"
   ]
  },
  {
   "cell_type": "code",
   "execution_count": 2,
   "id": "fe92e201",
   "metadata": {},
   "outputs": [
    {
     "name": "stdout",
     "output_type": "stream",
     "text": [
      "Sending information bitToSend = 1\n"
     ]
    },
    {
     "data": {
      "image/png": "[encoded data removed]",
      "text/plain": [
       "<Figure size 374.326x144.48 with 1 Axes>"
      ]
     },
     "metadata": {},
     "output_type": "display_data"
    },
    {
     "name": "stderr",
     "output_type": "stream",
     "text": [
      "<frozen importlib._bootstrap>:219: RuntimeWarning: scipy._lib.messagestream.MessageStream size changed, may indicate binary incompatibility. Expected 56 from C header, got 64 from PyObject\n"
     ]
    },
    {
     "data": {
      "image/png": "[encoded data removed]",
      "text/plain": [
       "<Figure size 504x360 with 1 Axes>"
      ]
     },
     "execution_count": 2,
     "metadata": {},
     "output_type": "execute_result"
    }
   ],
   "source": [
    "################ FILL YOUR CODE HERE\n",
    "# bits to send\n",
    "# bitToSend = 0 or 1\n",
    "# bitToSend = randint(2, size=1)\n",
    "bitToSend = 1\n",
    "\n",
    "print(\"Sending information bitToSend = \" + str(bitToSend))\n",
    "\n",
    "# create circuit \n",
    "qc = QuantumCircuit(1,1)\n",
    "\n",
    "if bitToSend:\n",
    "    qc.x(0)\n",
    "\n",
    "# Alice prepares qubit in state |+>\n",
    "qc.h(0)\n",
    "\n",
    "# Alice now sends the qubit to Bob\n",
    "qc.barrier(0)\n",
    "\n",
    "# who measures it in the X-basis (same as ALice)\n",
    "qc.h(0)\n",
    "\n",
    "\n",
    "qc.measure(0,0)\n",
    "\n",
    "display(qc.draw())\n",
    "\n",
    "# Draw and simulate circuit\n",
    "aer_sim = Aer.get_backend('aer_simulator')\n",
    "job = aer_sim.run(assemble(qc))\n",
    "plot_histogram(job.result().get_counts())"
   ]
  },
  {
   "cell_type": "markdown",
   "id": "673fe4c2",
   "metadata": {},
   "source": [
    "<b> 2.) Information is misunderstood by Bob"
   ]
  },
  {
   "cell_type": "markdown",
   "id": "d519b5b8-95e1-4df9-ab7f-2e835fc348e9",
   "metadata": {},
   "source": [
    "Communication is bad. \n",
    "\n",
    "😓 How can this be fixed? There are two ways to fix it. (Solution 1 and Solution 2)"
   ]
  },
  {
   "cell_type": "code",
   "execution_count": 4,
   "id": "7f7824fb",
   "metadata": {},
   "outputs": [
    {
     "name": "stdout",
     "output_type": "stream",
     "text": [
      "Sending information bitToSend = [0]\n"
     ]
    },
    {
     "data": {
      "image/png": "[encoded data removed]",
      "text/plain": [
       "<Figure size 253.926x144.48 with 1 Axes>"
      ]
     },
     "metadata": {},
     "output_type": "display_data"
    },
    {
     "data": {
      "image/png": "[encoded data removed]",
      "text/plain": [
       "<Figure size 504x360 with 1 Axes>"
      ]
     },
     "execution_count": 4,
     "metadata": {},
     "output_type": "execute_result"
    }
   ],
   "source": [
    "# bits to send\n",
    "# bitToSend = 0 or 1\n",
    "bitToSend = randint(2, size=1)\n",
    "\n",
    "print(\"Sending information bitToSend = \" + str(bitToSend))\n",
    "\n",
    "# create circuit \n",
    "qc = QuantumCircuit(1,1)\n",
    "\n",
    "if bitToSend:\n",
    "    qc.x(0)\n",
    "\n",
    "################ FILL YOUR CODE HERE\n",
    "# Solution 1: remove the encoding at Alice\n",
    "qc.h(0)\n",
    "\n",
    "# Alice now sends the qubitN to Bob\n",
    "qc.barrier(0)\n",
    "\n",
    "################ FILL YOUR CODE HERE\n",
    "# Solution 2: add the missing encoding at Bob\n",
    "#qc.h(0)\n",
    "\n",
    "qc.measure(0,0)\n",
    "\n",
    "display(qc.draw())\n",
    "\n",
    "# Draw and simulate circuit\n",
    "aer_sim = Aer.get_backend('aer_simulator')\n",
    "job = aer_sim.run(assemble(qc))\n",
    "plot_histogram(job.result().get_counts())"
   ]
  },
  {
   "cell_type": "markdown",
   "id": "0d423c02",
   "metadata": {},
   "source": [
    "<b> 3.) And now Eve intercepts the communication  "
   ]
  },
  {
   "cell_type": "markdown",
   "id": "ec31bc8b-8c52-4e02-aa0a-40c353b5923a",
   "metadata": {},
   "source": [
    "📣 From instructor: explains how interception destroys the measurement\n",
    "\n",
    "😓 where is actually Eve sitting and doing the espionage?\n",
    "\n",
    "😓 bonus: explain if the result of interception is different from the wrong decoding. It looks the same, but it is really the same? "
   ]
  },
  {
   "cell_type": "code",
   "execution_count": 5,
   "id": "6979ff45",
   "metadata": {},
   "outputs": [
    {
     "name": "stdout",
     "output_type": "stream",
     "text": [
      "Sending information bitToSend = [1]\n"
     ]
    },
    {
     "data": {
      "image/png": "[encoded data removed]",
      "text/plain": [
       "<Figure size 434.526x144.48 with 1 Axes>"
      ]
     },
     "metadata": {},
     "output_type": "display_data"
    },
    {
     "data": {
      "image/png": "[encoded data removed]",
      "text/plain": [
       "<Figure size 504x360 with 1 Axes>"
      ]
     },
     "execution_count": 5,
     "metadata": {},
     "output_type": "execute_result"
    }
   ],
   "source": [
    "# bits to send\n",
    "# bitToSend = 0 or 1\n",
    "bitToSend = randint(2, size=1)\n",
    "\n",
    "print(\"Sending information bitToSend = \" + str(bitToSend))\n",
    "\n",
    "qc = QuantumCircuit(1,1)\n",
    "\n",
    "if bitToSend:\n",
    "    qc.x(0)\n",
    "\n",
    "qc.h(0)\n",
    "\n",
    "################ FILL YOUR CODE HERE\n",
    "# SOLUTION: add the mesaurement of Eve here\n",
    "# Alice now sends the qubit to Bob\n",
    "# but Eve intercepts and tries to read it\n",
    "qc.measure(0, 0)\n",
    "\n",
    "qc.barrier()\n",
    "\n",
    "qc.h(0)\n",
    "qc.measure(0,0)\n",
    "\n",
    "# Draw and simulate circuit\n",
    "display(qc.draw())\n",
    "aer_sim = Aer.get_backend('aer_simulator')\n",
    "job = aer_sim.run(assemble(qc))\n",
    "plot_histogram(job.result().get_counts())"
   ]
  },
  {
   "cell_type": "markdown",
   "id": "bea73815-c91d-42e9-bad0-b099a8c376e5",
   "metadata": {},
   "source": [
    "# 2. Basic Quantum Key Distriction Protocol \n",
    "\n",
    "1. Alice generates a random bit string a a random bases\n",
    "2. Alice then encodes each bit onto a string of qubits using the basis she chose\n",
    "3. Bob then measures each qubit at random, for example, he might use the bases\n",
    "4. Bob and Alice then publicly share which basis they used for each qubit. If Bob measured a qubit in the same basis Alice prepared it in, they use this to form part of their shared secret key, otherwise they discard the information for that bit.\n",
    "5. Bob and Alice share a random sample of their keys, and if the samples match, they can be sure (to a small margin of error) that their transmission is successful.\n",
    "\n"
   ]
  },
  {
   "cell_type": "code",
   "execution_count": 6,
   "id": "d4ebbe57-c37e-4c5d-b8c1-03ec4c8f1b4d",
   "metadata": {},
   "outputs": [],
   "source": [
    "np.random.seed(seed=0)\n",
    "n = 50"
   ]
  },
  {
   "cell_type": "markdown",
   "id": "90d22ce1-5548-44ce-8b51-cccf0c4f8281",
   "metadata": {
    "tags": []
   },
   "source": [
    "# Step 1 - Generate some random bits"
   ]
  },
  {
   "cell_type": "code",
   "execution_count": 7,
   "id": "aaa8c46a-f91f-44be-8259-383f94bb678b",
   "metadata": {},
   "outputs": [
    {
     "name": "stdout",
     "output_type": "stream",
     "text": [
      "[0 1 1 0 1 1 1 1 1 1 1 0 0 1 0 0 0 0 0 1 0 1 1 0 0 1 1 1 1 0 1 0 1 0 1 1 0\n",
      " 1 1 0 0 1 0 1 1 1 1 1 0 1]\n"
     ]
    }
   ],
   "source": [
    "# Alice generates bits\n",
    "alice_bits = randint(2, size=n)\n",
    "\n",
    "print(alice_bits)"
   ]
  },
  {
   "cell_type": "markdown",
   "id": "7035cceb-1a89-46a5-ba74-bb5e457c55e2",
   "metadata": {
    "tags": []
   },
   "source": [
    "# Step 2 generate random basis and encode message"
   ]
  },
  {
   "cell_type": "markdown",
   "id": "90c98ee8-ac15-4a8b-9fae-b881fb015316",
   "metadata": {},
   "source": [
    "Alice generates a random basis for tranmission. A 0 or a 1 describes the encoding of the bit. "
   ]
  },
  {
   "cell_type": "code",
   "execution_count": 8,
   "id": "2b49e35e-169c-4a82-ba95-66f5c5dbd12c",
   "metadata": {},
   "outputs": [
    {
     "name": "stdout",
     "output_type": "stream",
     "text": [
      "[0 1 1 1 1 0 1 0 0 1 1 0 1 0 1 0 0 0 0 0 1 1 0 0 0 1 1 0 1 0 0 1 0 1 1 1 1\n",
      " 1 1 0 1 1 0 0 1 0 0 1 1 0]\n"
     ]
    }
   ],
   "source": [
    "# Create an array to tell us which qubits\n",
    "# are encoded in which bases\n",
    "alice_bases = randint(2, size=n)\n",
    "\n",
    "print(alice_bases)\n",
    "\n",
    "message = encode_message(alice_bits, alice_bases)"
   ]
  },
  {
   "cell_type": "markdown",
   "id": "c65c06bf-67a6-42e8-acca-cbda171cd711",
   "metadata": {},
   "source": [
    "After generation of the basis, Alice encodes the information. For every bit a circuit has been generated.\n",
    "\n",
    "😓 show the circuits for each qubit or all of them."
   ]
  },
  {
   "cell_type": "code",
   "execution_count": 9,
   "id": "91512edc-8314-4092-b47a-7e0bca760186",
   "metadata": {},
   "outputs": [
    {
     "data": {
      "image/png": "[encoded data removed]",
      "text/plain": [
       "<Figure size 133.526x144.48 with 1 Axes>"
      ]
     },
     "execution_count": 9,
     "metadata": {},
     "output_type": "execute_result"
    }
   ],
   "source": [
    "################ FILL YOUR CODE HERE\n",
    "message[0].draw()"
   ]
  },
  {
   "cell_type": "markdown",
   "id": "a8925daa-cb0e-40f7-a50c-daf7f7d2c2b6",
   "metadata": {},
   "source": [
    "# Step 3 - Generate random basis for Bob"
   ]
  },
  {
   "cell_type": "markdown",
   "id": "e9d5c080-afbc-42cc-b0a7-178f5475fc41",
   "metadata": {},
   "source": [
    "Now Bob generates a random basis which is applied before measurement.\n",
    "\n",
    "😓 Generate a random list of bits for Bob. Hint: Alice did the same before."
   ]
  },
  {
   "cell_type": "code",
   "execution_count": 10,
   "id": "777a39b9-741a-4b46-adba-41ef4d04f1e7",
   "metadata": {},
   "outputs": [
    {
     "name": "stdout",
     "output_type": "stream",
     "text": [
      "[1 0 0 1 0 0 0 1 1 0 1 0 0 0 0 0 1 0 1 0 1 1 1 1 1 0 1 1 1 1 0 1 1 0 0 1 0\n",
      " 0 0 0 1 1 0 0 1 0 1 1 1 1]\n"
     ]
    }
   ],
   "source": [
    "################ FILL YOUR CODE HERE\n",
    "bob_bases = randint(2, size=n)\n",
    "print(bob_bases)"
   ]
  },
  {
   "cell_type": "code",
   "execution_count": 11,
   "id": "d4877860-bbde-4119-8447-4c4c91b700cc",
   "metadata": {},
   "outputs": [
    {
     "name": "stdout",
     "output_type": "stream",
     "text": [
      "[0, 0, 0, 0, 0, 1, 1, 0, 1, 0, 1, 0, 0, 1, 0, 0, 1, 0, 1, 1, 0, 1, 1, 0, 1, 0, 1, 0, 1, 0, 1, 0, 1, 0, 1, 1, 1, 1, 1, 0, 0, 1, 0, 1, 1, 1, 1, 1, 0, 0]\n"
     ]
    }
   ],
   "source": [
    "bob_results = measure_message(message, bob_bases)\n",
    "print(bob_results)"
   ]
  },
  {
   "cell_type": "markdown",
   "id": "6faa9d11-bc73-4510-8918-495b344027b9",
   "metadata": {},
   "source": [
    "Since Alice sent the qubit and Bob added his random decoding and measurement, the circuits are final. Go on and draw the final circuits.\n",
    "\n",
    "😓 Add the code to draw the final circuit"
   ]
  },
  {
   "cell_type": "code",
   "execution_count": 12,
   "id": "5d198cda-55c0-4e6e-a1dd-0e95fa22908d",
   "metadata": {},
   "outputs": [
    {
     "data": {
      "image/png": "[encoded data removed]",
      "text/plain": [
       "<Figure size 253.926x144.48 with 1 Axes>"
      ]
     },
     "execution_count": 12,
     "metadata": {},
     "output_type": "execute_result"
    }
   ],
   "source": [
    "################ FILL YOUR CODE HERE\n",
    "\n",
    "message[0].draw()"
   ]
  },
  {
   "cell_type": "markdown",
   "id": "54f1ebdb-5d78-4583-8801-a7e4cd61de10",
   "metadata": {},
   "source": [
    "# Step 4 - Clean up the measurements"
   ]
  },
  {
   "cell_type": "code",
   "execution_count": 13,
   "id": "e8144831-f7e3-4142-ac74-516370820b22",
   "metadata": {},
   "outputs": [
    {
     "name": "stdout",
     "output_type": "stream",
     "text": [
      "[0, 1, 1, 0, 1, 0, 0, 1, 0, 1, 1, 1, 1, 0, 1, 0, 0, 1, 0, 1, 1, 1, 1, 0]\n"
     ]
    }
   ],
   "source": [
    "alice_key = remove_garbage(alice_bases, bob_bases, alice_bits)\n",
    "print(alice_key)"
   ]
  },
  {
   "cell_type": "code",
   "execution_count": 14,
   "id": "6af6b9b1-cf32-41e7-8fa5-38b64c58ace0",
   "metadata": {},
   "outputs": [
    {
     "name": "stdout",
     "output_type": "stream",
     "text": [
      "[0, 1, 1, 0, 1, 0, 0, 1, 0, 1, 1, 1, 1, 0, 1, 0, 0, 1, 0, 1, 1, 1, 1, 0]\n"
     ]
    }
   ],
   "source": [
    "bob_key = remove_garbage(alice_bases, bob_bases, bob_results)\n",
    "print(bob_key)"
   ]
  },
  {
   "cell_type": "markdown",
   "id": "02cecedd-7943-4014-ae87-e298254f043a",
   "metadata": {},
   "source": [
    "# Step 5 - Compare the keys"
   ]
  },
  {
   "cell_type": "code",
   "execution_count": 15,
   "id": "7474b9e8-db32-4b0b-8531-71af70d0f29b",
   "metadata": {},
   "outputs": [
    {
     "name": "stdout",
     "output_type": "stream",
     "text": [
      "  bob_sample = [0, 1, 0, 0, 1, 1, 1, 1, 0, 1, 1, 0, 0, 0, 0]\n",
      "alice_sample = [0, 1, 0, 0, 1, 1, 1, 1, 0, 1, 1, 0, 0, 0, 0]\n"
     ]
    }
   ],
   "source": [
    "sample_size = 15\n",
    "bit_selection = randint(n, size=sample_size)\n",
    "\n",
    "bob_sample = sample_bits(bob_key, bit_selection)\n",
    "print(\"  bob_sample = \" + str(bob_sample))\n",
    "alice_sample = sample_bits(alice_key, bit_selection)\n",
    "print(\"alice_sample = \"+ str(alice_sample))"
   ]
  },
  {
   "cell_type": "code",
   "execution_count": 17,
   "id": "bfb7e9a9-1534-440c-9cee-18abb99936ae",
   "metadata": {},
   "outputs": [
    {
     "name": "stdout",
     "output_type": "stream",
     "text": [
      "There was no interception!\n"
     ]
    }
   ],
   "source": [
    "if bob_sample != alice_sample:\n",
    "    print(\"Eve's interference was detected.\")\n",
    "else:\n",
    "    print(\"There was no interception!\")"
   ]
  },
  {
   "cell_type": "markdown",
   "id": "fd289896-69ab-4f84-bf1c-ad06741dfa82",
   "metadata": {},
   "source": [
    "And from here one the key can be used for encryption...."
   ]
  },
  {
   "cell_type": "markdown",
   "id": "2490f186-59c6-4177-8403-83b6314b265a",
   "metadata": {},
   "source": [
    "# And now Eve comes into play"
   ]
  },
  {
   "cell_type": "markdown",
   "id": "3a445630-9af9-452b-9dbe-86f054603cc0",
   "metadata": {},
   "source": [
    "Where does Eve appears? At what place and how is the interception done.\n",
    "\n",
    "Note: this code has to be added at the right place.\n",
    "```\n",
    "eve_bases = randint(2, size=n)\n",
    "intercepted_message = measure_message(message, eve_bases)\n",
    "```"
   ]
  },
  {
   "cell_type": "code",
   "execution_count": 18,
   "id": "bfbbadfb-4e9f-4070-8ec8-a47775498dca",
   "metadata": {},
   "outputs": [
    {
     "name": "stdout",
     "output_type": "stream",
     "text": [
      "  bob_sample = [1, 0, 1, 1, 0, 0, 1, 1, 0, 1, 0, 1, 1, 0, 0]\n",
      "alice_sample = [1, 0, 1, 1, 1, 0, 1, 0, 1, 1, 0, 1, 1, 0, 0]\n"
     ]
    }
   ],
   "source": [
    "np.random.seed(seed=3)\n",
    "\n",
    "## Step 1\n",
    "alice_bits = randint(2, size=n)\n",
    "\n",
    "## Step 2\n",
    "alice_bases = randint(2, size=n)\n",
    "message = encode_message(alice_bits, alice_bases)\n",
    "\n",
    "################ FILL YOUR CODE HERE\n",
    "eve_bases = randint(2, size=n)\n",
    "intercepted_message = measure_message(message, eve_bases)\n",
    "\n",
    "\n",
    "## Step 3\n",
    "bob_bases = randint(2, size=n)\n",
    "bob_results = measure_message(message, bob_bases)\n",
    "\n",
    "## Step 4\n",
    "bob_key = remove_garbage(alice_bases, bob_bases, bob_results)\n",
    "alice_key = remove_garbage(alice_bases, bob_bases, alice_bits)\n",
    "\n",
    "## Step 5\n",
    "sample_size = 15\n",
    "bit_selection = randint(n, size=sample_size)\n",
    "\n",
    "bob_sample = sample_bits(bob_key, bit_selection)\n",
    "print(\"  bob_sample = \" + str(bob_sample))\n",
    "\n",
    "alice_sample = sample_bits(alice_key, bit_selection)\n",
    "print(\"alice_sample = \"+ str(alice_sample))"
   ]
  },
  {
   "cell_type": "code",
   "execution_count": 20,
   "id": "9832b838-5e83-4197-a6f9-c4d911b98c36",
   "metadata": {},
   "outputs": [
    {
     "name": "stdout",
     "output_type": "stream",
     "text": [
      "Eve's interference was detected.\n"
     ]
    }
   ],
   "source": [
    "if bob_sample != alice_sample:\n",
    "    print(\"Eve's interference was detected.\")\n",
    "else:\n",
    "    print(\"There was no interception!\")"
   ]
  },
  {
   "cell_type": "markdown",
   "id": "abd6d595-d7df-4be7-b447-db63bf8f2649",
   "metadata": {},
   "source": [
    "See bonus exercises in \"bonus 1 - transmit_text.ipynb\" and \"bonus 2 - transmit_image.ipynb\" to learn how to use QKD for encrpyting data."
   ]
  },
  {
   "cell_type": "code",
   "execution_count": null,
   "id": "2e36de75-fbb7-4ed1-bf05-6a24c822dd4a",
   "metadata": {},
   "outputs": [],
   "source": []
  }
 ],
 "metadata": {
  "kernelspec": {
   "display_name": "Qiskit v0.35.0 (ipykernel)",
   "language": "python",
   "name": "python3"
  },
  "language_info": {
   "codemirror_mode": {
    "name": "ipython",
    "version": 3
   },
   "file_extension": ".py",
   "mimetype": "text/x-python",
   "name": "python",
   "nbconvert_exporter": "python",
   "pygments_lexer": "ipython3",
   "version": "3.8.13"
  },
  "widgets": {
   "application/vnd.jupyter.widget-state+json": {
    "state": {},
    "version_major": 2,
    "version_minor": 0
   }
  }
 },
 "nbformat": 4,
 "nbformat_minor": 5
}
