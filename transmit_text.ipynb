{
 "cells": [
  {
   "cell_type": "code",
   "execution_count": 48,
   "id": "418209ea-8bff-4ec3-9b63-7d8c08fdac8a",
   "metadata": {},
   "outputs": [],
   "source": [
    "# importing libraries.\n",
    "import numpy as np\n",
    "import matplotlib.pyplot as plt\n",
    "from PIL import Image\n",
    "import random\n",
    "from numpy.random import randint\n",
    "\n",
    "np.random.seed(seed=25)\n",
    "\n",
    "def byte_xor(ba1, ba2):\n",
    "    return bytes([_a ^ _b for _a, _b in zip(ba1, ba2)])"
   ]
  },
  {
   "cell_type": "markdown",
   "id": "bcf055bd-5c29-4c9a-832a-00eed4e93c8e",
   "metadata": {},
   "source": [
    "Alice wants to send the text to Bob and wants to use QKD. "
   ]
  },
  {
   "cell_type": "code",
   "execution_count": 49,
   "id": "976b8be2-ee27-4beb-9c8a-2aaeb67545bd",
   "metadata": {},
   "outputs": [],
   "source": [
    "textToEncode = \"Hackathon World Of Quantum 2022\""
   ]
  },
  {
   "cell_type": "markdown",
   "id": "3b82b8a1-651a-43be-bad7-4008ab7ff68a",
   "metadata": {},
   "source": [
    "First a key has to be generated. For demonstration the key is random, but your task is to use QKD to generate a key.\n",
    "\n",
    "😓 Here the QKD has to happen. Generate a key with the needed lenth to encode & decode the information."
   ]
  },
  {
   "cell_type": "code",
   "execution_count": 63,
   "id": "853c9140-fa58-461c-b3d8-bf7a70dc0fe1",
   "metadata": {},
   "outputs": [],
   "source": [
    "# generate here the key for Alice as shown above\n",
    "keyAlice = randint(2, size=len(textToEncode))"
   ]
  },
  {
   "cell_type": "code",
   "execution_count": 64,
   "id": "902c0eed-5f2a-4969-ab4f-87d183ba14dd",
   "metadata": {},
   "outputs": [],
   "source": [
    "# key distribution has been interception by Eve\n",
    "# keyBob = randint(2, size=len(textToEncode))\n",
    "\n",
    "# key has not been intercepted and is the same as Alice has\n",
    "keyBob = keyAlice "
   ]
  },
  {
   "cell_type": "code",
   "execution_count": 65,
   "id": "50cd67c7-be5e-44e2-af15-ee394085f86a",
   "metadata": {},
   "outputs": [
    {
     "name": "stdout",
     "output_type": "stream",
     "text": [
      "Original text: b'Hackathon World Of Quantum 2022'\n",
      "Encoded text:  b'I`bj`tioo Wosmd!Ng!Pu`otul 3132'\n",
      "Decoded text:  b'Hackathon World Of Quantum 2022'\n"
     ]
    }
   ],
   "source": [
    "# convert it to binary for transmission\n",
    "rawText = bytes(textToEncode, 'utf-8')\n",
    "print(\"Original text: \" + str(rawText))\n",
    "\n",
    "encodedRawText = byte_xor(rawText, keyAlice)\n",
    "print(\"Encoded text:  \" + str(encodedRawText))\n",
    "\n",
    "decodedRawText = byte_xor(encodedRawText, keyBob)\n",
    "print(\"Decoded text:  \" + str(decodedRawText))"
   ]
  },
  {
   "cell_type": "markdown",
   "id": "f5cfa4a1-f36f-4afc-b50b-4e9a519ca5bd",
   "metadata": {},
   "source": [
    "If somehow the QKD was intercepted and Alice & Bob have different keys, the result is garbage."
   ]
  },
  {
   "cell_type": "code",
   "execution_count": 56,
   "id": "9e50bf9a-7698-46db-9786-7d95b85cfcae",
   "metadata": {},
   "outputs": [
    {
     "name": "stdout",
     "output_type": "stream",
     "text": [
      "Transmission of key was not intercepted!\n"
     ]
    }
   ],
   "source": [
    "if (rawText == decodedRawText):\n",
    "    print(\"Transmission of key was not intercepted!\")\n",
    "else:\n",
    "    print(\"Transmission of key was intercepted at some point!\")"
   ]
  },
  {
   "cell_type": "code",
   "execution_count": null,
   "id": "5df5bbce-efe6-49f9-944b-f380de06de2e",
   "metadata": {},
   "outputs": [],
   "source": []
  }
 ],
 "metadata": {
  "kernelspec": {
   "display_name": "Qiskit v0.35.0 (ipykernel)",
   "language": "python",
   "name": "python3"
  },
  "language_info": {
   "codemirror_mode": {
    "name": "ipython",
    "version": 3
   },
   "file_extension": ".py",
   "mimetype": "text/x-python",
   "name": "python",
   "nbconvert_exporter": "python",
   "pygments_lexer": "ipython3",
   "version": "3.8.13"
  },
  "widgets": {
   "application/vnd.jupyter.widget-state+json": {
    "state": {},
    "version_major": 2,
    "version_minor": 0
   }
  }
 },
 "nbformat": 4,
 "nbformat_minor": 5
}
